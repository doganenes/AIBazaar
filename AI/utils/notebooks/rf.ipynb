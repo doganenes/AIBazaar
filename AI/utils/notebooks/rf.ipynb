{
 "cells": [
  {
   "cell_type": "code",
   "execution_count": null,
   "id": "0d46c314",
   "metadata": {},
   "outputs": [
    {
     "name": "stdout",
     "output_type": "stream",
     "text": [
      "✔ Dosya mevcut kolonlar korunarak ve Description bilgileri ayrılarak kaydedildi.\n"
     ]
    }
   ],
   "source": [
    "import pandas as pd\n",
    "import os\n",
    "\n",
    "input_file = (\n",
    "    r\"C:\\Users\\EXCALIBUR\\Desktop\\projects\\Okul Ödevler\\AIBazaar\\AI\\utils\\notebooks\\LSTMProduct2.csv\"\n",
    ")\n",
    "\n",
    "column_mapping = {\n",
    "    \"Ekran Boyutu\": \"Display Size\",\n",
    "    \"Ekran Teknolojisi\": \"Display Technology\",\n",
    "    \"Piksel Yoğunluğu\": \"Pixel Density\",\n",
    "    \"Batarya Kapasitesi\": \"Battery Capacity\",\n",
    "    \"Kamera Çözünürlüğü\": \"Camera Resolution\",\n",
    "    \"CPU Üretim Teknolojisi\": \"CPU Manufacturing\",\n",
    "    \"İşletim Sistemi\": \"Operating System\",\n",
    "    \"RAM Kapasitesi\": \"RAM\",\n",
    "    \"Dahili Hafıza\": \"Internal Storage\",\n",
    "    \"Ekran Yenileme Hızı\": \"Refresh Rate\",\n",
    "    \"Model\": \"Model\",\n",
    "    \"5G\": \"5G\",\n",
    "    \"Price\": \"Price\",\n",
    "}\n",
    "\n",
    "if not os.path.exists(input_file):\n",
    "    raise FileNotFoundError(f\"Giriş dosyası bulunamadı: {input_file}\")\n",
    "\n",
    "df = pd.read_csv(input_file)\n",
    "\n",
    "if \"Description\" not in df.columns:\n",
    "    raise KeyError(\"CSV dosyasında 'Description' sütunu bulunamadı.\")\n",
    "\n",
    "parsed_data = []\n",
    "for _, row in df.iterrows():\n",
    "    description = str(row.get(\"Description\", \"\"))\n",
    "    specs = {}\n",
    "\n",
    "    for part in description.split(\";\"):\n",
    "        if \":\" in part:\n",
    "            key, value = part.split(\":\", 1)\n",
    "            key = key.strip()\n",
    "            value = value.strip()\n",
    "            english_key = column_mapping.get(key, key)\n",
    "            specs[english_key] = value\n",
    "\n",
    "    parsed_data.append(specs)\n",
    "\n",
    "parsed_df = pd.DataFrame(parsed_data)\n",
    "\n",
    "df_updated = pd.concat([df, parsed_df], axis=1)\n",
    "\n",
    "df_updated.to_csv(\"hello.csv\", index=False, encoding=\"utf-8-sig\")\n",
    "print(\n",
    "    \"✔ Dosya mevcut kolonlar korunarak ve Description bilgileri ayrılarak kaydedildi.\"\n",
    ")"
   ]
  },
  {
   "cell_type": "code",
   "execution_count": null,
   "id": "3617b8e2",
   "metadata": {},
   "outputs": [
    {
     "name": "stdout",
     "output_type": "stream",
     "text": [
      "productDetail_updated.csv dosyası başarıyla güncellendi.\n"
     ]
    }
   ],
   "source": [
    "import pandas as pd\n",
    "import re\n",
    "\n",
    "input_file = (\n",
    "    r\"C:\\Users\\EXCALIBUR\\Desktop\\projects\\Okul Ödevler\\AIBazaar\\AI\\utils\\notebooks\\hello.csv\"\n",
    ")\n",
    "output_file = \"productDetail_updated.csv\"\n",
    "\n",
    "df = pd.read_csv(input_file)\n",
    "\n",
    "df.fillna(0, inplace=True)\n",
    "\n",
    "\n",
    "def extract_ipx_number(value):\n",
    "    if isinstance(value, str):\n",
    "        match = re.search(r\"\\d+\", value) \n",
    "        if match:\n",
    "            return int(match.group())\n",
    "    return 0\n",
    "\n",
    "\n",
    "if \"Suya dayanıklılık\" in df.columns:\n",
    "    df[\"Waterproof\"] = df[\"Suya dayanıklılık\"].apply(extract_ipx_number)\n",
    "if \"Toza dayanıklılık\" in df.columns:\n",
    "    df[\"Dustproof\"] = df[\"Toza dayanıklılık\"].apply(extract_ipx_number)\n",
    "\n",
    "# df.drop(columns=[\"Suya dayanıklılık\", \"Toza dayanıklılık\"], inplace=True)\n",
    "\n",
    "# Kaydet\n",
    "df.to_csv(output_file, index=False, encoding=\"utf-8-sig\")\n",
    "print(f\"{output_file} dosyası başarıyla güncellendi.\")"
   ]
  },
  {
   "cell_type": "code",
   "execution_count": null,
   "id": "a7475de4",
   "metadata": {},
   "outputs": [],
   "source": [
    "import pandas as pd\n",
    "import seaborn as sns\n",
    "import matplotlib.pyplot as plt\n",
    "\n",
    "df = pd.read_csv(\n",
    "    r\"C:\\Users\\pc\\Desktop\\AIbazaar\\AIBazaar\\AI\\utils\\notebooks\\product_specs_en.csv\"\n",
    ")\n",
    "\n",
    "numeric_df = df.select_dtypes(include=['int64', 'float64'])\n",
    "\n",
    "corr = numeric_df.corr()\n",
    "\n",
    "plt.figure(figsize=(12, 8))\n",
    "sns.heatmap(corr, annot=True, cmap='coolwarm', fmt=\".2f\", linewidths=0.5)\n",
    "plt.title(\"Telefon Özellikleri Sayısal Değişkenler Korelasyon Matrisi\")\n",
    "plt.show()"
   ]
  },
  {
   "cell_type": "code",
   "execution_count": null,
   "id": "bbe53259",
   "metadata": {},
   "outputs": [],
   "source": [
    "import pandas as pd\n",
    "\n",
    "df = pd.read_csv(r\"C:\\Users\\EXCALIBUR\\Desktop\\projects\\Okul Ödevler\\AIBazaar\\AI\\utils\\notebooks\\XGBoostData.csv\") \n",
    "\n",
    "df[\"ProductName\"] = df[\"Description\"].str.extract(r'Model:\\s*([^;]+)')\n",
    "\n",
    "df[\"Description\"] = df[\"Description\"].str.replace(r'Model:\\s*[^;]+;\\s*', '', regex=True)\n",
    "\n",
    "df.to_csv(\"newProductData.csv\", index=False,encoding=\"utf-8-sig\")\n",
    "\n",
    "print(df.head())\n"
   ]
  },
  {
   "cell_type": "code",
   "execution_count": null,
   "id": "0bb158ba",
   "metadata": {},
   "outputs": [],
   "source": [
    "import pandas as pd\n",
    "\n",
    "df = pd.read_csv(r\"C:\\Users\\EXCALIBUR\\Desktop\\projects\\Okul Ödevler\\AIBazaar\\AI\\utils\\notebooks\\Product.csv\")\n",
    "\n",
    "mean_prices = df.groupby(\"Display Technology\")[\"Price\"].mean().sort_values(ascending=False)\n",
    "\n",
    "price_ratios = mean_prices / mean_prices.min()\n",
    "\n",
    "result_df = pd.DataFrame({\n",
    "    \"Average Price\": mean_prices,\n",
    "    \"Ratio to Highest\": price_ratios\n",
    "})\n",
    "\n",
    "print(result_df)\n"
   ]
  },
  {
   "cell_type": "code",
   "execution_count": null,
   "id": "9215f931",
   "metadata": {},
   "outputs": [],
   "source": [
    "import pandas as pd\n",
    "df = pd.read_csv(r\"C:\\Users\\EXCALIBUR\\Desktop\\projects\\Okul Ödevler\\AIBazaar\\AI\\utils\\notebooks\\Product.csv\")\n",
    "prediction_price = 15000\n",
    "df[\"price_diff\"] = (df[\"Price\"] - prediction_price).abs()\n",
    "df = df[df[\"price_diff\"] <= prediction_price * 0.1]  \n",
    "print(df.head(5))\n",
    "\n",
    "print(len(df))"
   ]
  },
  {
   "cell_type": "code",
   "execution_count": null,
   "id": "79ef47c5",
   "metadata": {},
   "outputs": [],
   "source": [
    "import pandas as pd\n",
    "\n",
    "df1 = pd.read_csv(r'C:\\Users\\EXCALIBUR\\Desktop\\projects\\Okul Ödevler\\AIBazaar\\AI\\utils\\notebooks\\product_specs_en.csv')  \n",
    "df2 = pd.read_csv(r'C:\\Users\\EXCALIBUR\\Desktop\\projects\\Okul Ödevler\\AIBazaar\\AI\\utils\\notebooks\\LSTMPriceHistory.csv')  \n",
    "\n",
    "df1['Model'] = df1['Model'].str.strip()\n",
    "df2['Model'] = df2['Model'].str.strip()\n",
    "\n",
    "model_to_id = df1.set_index('Model')['ProductID'].to_dict()\n",
    "\n",
    "df2['ProductID'] = df2.apply(\n",
    "    lambda row: model_to_id.get(row['Model'], row['ProductID']),\n",
    "    axis=1\n",
    ")\n",
    "\n",
    "df2.to_csv(r'C:\\Users\\EXCALIBUR\\Desktop\\kass.csv', index=False)\n",
    "\n",
    "print(\"✅ CSV2'deki ProductID'ler, Model eşleşmesine göre CSV1'den güncellendi.\")\n"
   ]
  },
  {
   "cell_type": "code",
   "execution_count": null,
   "id": "c0d0f200",
   "metadata": {},
   "outputs": [],
   "source": [
    "import pandas as pd\n",
    "\n",
    "df1 = pd.read_csv(r'C:\\Users\\EXCALIBUR\\Desktop\\projects\\Okul Ödevler\\AIBazaar\\AI\\utils\\notebooks\\Product.csv')  df2 = pd.read_csv(r'C:\\Users\\EXCALIBUR\\Desktop\\projects\\Okul Ödevler\\AIBazaar\\AI\\utils\\notebooks\\product_specs_en.csv')  \n",
    "\n",
    "df1['Model'] = df1['Model'].str.strip()\n",
    "df2['Model'] = df2['Model'].str.strip()\n",
    "\n",
    "id_to_model = df1.set_index('ProductID')['Model'].to_dict()\n",
    "\n",
    "df2['Model'] = df2.apply(\n",
    "    lambda row: id_to_model.get(row['ProductID'], row['Model']),\n",
    "    axis=1\n",
    ")\n",
    "\n",
    "df2.to_csv(r'C:\\Users\\EXCALIBUR\\Desktop\\nesa.csv', index=False)\n",
    "\n",
    "print(\"✅ CSV2'deki Model isimleri, ProductID'ye göre CSV1'den güncellendi.\")\n"
   ]
  },
  {
   "cell_type": "code",
   "execution_count": null,
   "id": "88dac132",
   "metadata": {},
   "outputs": [
    {
     "name": "stdout",
     "output_type": "stream",
     "text": [
      "✔ iOS telefonlar başarıyla ios_only.csv dosyasına eklendi.\n"
     ]
    },
    {
     "name": "stderr",
     "output_type": "stream",
     "text": [
      "C:\\Users\\EXCALIBUR\\AppData\\Local\\Temp\\ipykernel_10912\\1849587150.py:18: FutureWarning: The behavior of DataFrame concatenation with empty or all-NA entries is deprecated. In a future version, this will no longer exclude empty or all-NA columns when determining the result dtypes. To retain the old behavior, exclude the relevant entries before the concat operation.\n",
      "  merged_df = pd.concat([target_df, ios_df], ignore_index=True).drop_duplicates()\n"
     ]
    }
   ],
   "source": [
    "import pandas as pd\n",
    "\n",
    "all_df = pd.read_csv(\n",
    "    r\"C:\\Users\\EXCALIBUR\\Desktop\\projects\\Okul Ödevler\\AIBazaar\\AI\\utils\\notebooks\\productDetail_updated.csv\"\n",
    ")\n",
    "\n",
    "ios_df = all_df[all_df[\"Operating System\"] == \"iOS\"]\n",
    "\n",
    "try:\n",
    "    target_df = pd.read_csv(r\"C:\\Users\\pc\\Desktop\\AIbazaar\\AIBazaar\\AI\\utils\\notebooks\\ProductnEW.csv\")\n",
    "except FileNotFoundError:\n",
    "    target_df = pd.DataFrame(columns=all_df.columns)\n",
    "\n",
    "merged_df = pd.concat([target_df, ios_df], ignore_index=True).drop_duplicates()\n",
    "merged_df.drop_duplicates()\n",
    "merged_df.to_csv(\"Product.csv\", index=False, encoding=\"utf-8-sig\")\n",
    "\n",
    "print(\"✔ iOS telefonlar başarıyla ios_only.csv dosyasına eklendi.\")"
   ]
  },
  {
   "cell_type": "code",
   "execution_count": 13,
   "id": "084d4367",
   "metadata": {},
   "outputs": [],
   "source": [
    "import pandas as pd\n",
    "df = pd.read_csv(r\"C:\\Users\\EXCALIBUR\\Desktop\\projects\\Okul Ödevler\\AIBazaar\\AI\\utils\\notebooks\\updated_phones.csv\")\n",
    "df.drop_duplicates(subset=[\"ProductID\"], keep=\"first\", inplace=True)\n",
    "df.to_csv(\"updated.csv\", index=False, encoding=\"utf-8-sig\")"
   ]
  },
  {
   "cell_type": "code",
   "execution_count": null,
   "id": "95b6a7c3",
   "metadata": {},
   "outputs": [],
   "source": [
    "import pandas as pd\n",
    "\n",
    "df = pd.read_csv(r\"C:\\Users\\EXCALIBUR\\Desktop\\projects\\Okul Ödevler\\AIBazaar\\AI\\utils\\notebooks\\Product.csv\")\n",
    "\n",
    "df = df[df[\"Operating System\"] != \"iOS\"]\n",
    "\n",
    "df.to_csv(\"product_without_ios.csv\", index=False, encoding=\"utf-8-sig\")"
   ]
  },
  {
   "cell_type": "code",
   "execution_count": 4,
   "id": "e1a78415",
   "metadata": {},
   "outputs": [],
   "source": [
    "import pandas as pd\n",
    "\n",
    "df = pd.read_csv(r\"C:\\Users\\EXCALIBUR\\Desktop\\projects\\Okul Ödevler\\AIBazaar\\AI\\utils\\notebooks\\productDetail_updated.csv\")\n",
    "\n",
    "def update_model(row):\n",
    "    if row[\"Operating System\"] == \"iOS\" and \"RAM\" not in row[\"Model\"]:\n",
    "        return f\"{row['Model']} {row['RAM']} GB RAM {row['Internal Storage']} GB\"\n",
    "    return row[\"Model\"]\n",
    "\n",
    "df[\"Model\"] = df.apply(update_model, axis=1)\n",
    "\n",
    "df.drop_duplicates(subset=[\"ProductID\"], inplace=True)\n",
    "\n",
    "df.to_csv(\"updated_phones.csv\", index=False, encoding=\"utf-8-sig\")"
   ]
  },
  {
   "cell_type": "code",
   "execution_count": null,
   "id": "e5496069",
   "metadata": {},
   "outputs": [
    {
     "name": "stderr",
     "output_type": "stream",
     "text": [
      "C:\\Users\\EXCALIBUR\\AppData\\Local\\Temp\\ipykernel_3600\\934758621.py:4: DtypeWarning: Columns (3) have mixed types. Specify dtype option on import or set low_memory=False.\n",
      "  df_products = pd.read_csv(r\"C:\\Users\\EXCALIBUR\\Desktop\\projects\\Okul Ödevler\\AIBazaar\\AI\\utils\\notebooks\\LSTMPriceHistory.csv\")\n"
     ]
    },
    {
     "name": "stdout",
     "output_type": "stream",
     "text": [
      "   ProductID                   ProductName  RecordDate  Price  CurrencyRate\n",
      "0     966543  Xiaomi 15 Ultra Cep Telefonu  02.03.2025  79999       36.3652\n",
      "1     966543  Xiaomi 15 Ultra Cep Telefonu  03.03.2025  79999       36.3812\n",
      "2     966543  Xiaomi 15 Ultra Cep Telefonu  04.03.2025  79999       36.4097\n",
      "3     966543  Xiaomi 15 Ultra Cep Telefonu  05.03.2025  79999       36.4011\n",
      "4     966543  Xiaomi 15 Ultra Cep Telefonu  06.03.2025  79999       36.3682\n"
     ]
    }
   ],
   "source": [
    "import pandas as pd\n",
    "\n",
    "df_products = pd.read_csv(r\"C:\\Users\\EXCALIBUR\\Desktop\\projects\\Okul Ödevler\\AIBazaar\\AI\\utils\\notebooks\\LSTMPriceHistory.csv\")\n",
    "df_currency = pd.read_csv(r\"C:\\Users\\EXCALIBUR\\Desktop\\projects\\Okul Ödevler\\AIBazaar\\AI\\utils\\notebooks\\currencyRates.csv\")\n",
    "\n",
    "df_products[\"RecordDate\"] = pd.to_datetime(df_products[\"RecordDate\"], dayfirst=True, errors=\"coerce\")\n",
    "df_currency[\"RecordDate\"] = pd.to_datetime(df_currency[\"RecordDate\"], dayfirst=True, errors=\"coerce\")\n",
    "\n",
    "merged_df = pd.merge(df_products, df_currency, on=\"RecordDate\", how=\"left\")\n",
    "\n",
    "merged_df[\"RecordDate\"] = merged_df[\"RecordDate\"].dt.strftime(\"%d.%m.%Y\")\n",
    "\n",
    "print(merged_df.head())\n",
    "\n",
    "merged_df.to_csv(\"products_with_currency.csv\", index=False)\n"
   ]
  }
 ],
 "metadata": {
  "kernelspec": {
   "display_name": "Python 3",
   "language": "python",
   "name": "python3"
  },
  "language_info": {
   "codemirror_mode": {
    "name": "ipython",
    "version": 3
   },
   "file_extension": ".py",
   "mimetype": "text/x-python",
   "name": "python",
   "nbconvert_exporter": "python",
   "pygments_lexer": "ipython3",
   "version": "3.12.8"
  }
 },
 "nbformat": 4,
 "nbformat_minor": 5
}
