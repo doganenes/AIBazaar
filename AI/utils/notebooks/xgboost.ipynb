{
 "cells": [
  {
   "cell_type": "code",
   "execution_count": 1,
   "id": "0d46c314",
   "metadata": {},
   "outputs": [
    {
     "ename": "FileNotFoundError",
     "evalue": "Giriş dosyası bulunamadı: C:\\Users\\pc\\Desktop\\AIbazaar\\AIBazaar\\AI\\utils\\notebooks\\LSTMProduct1.csv",
     "output_type": "error",
     "traceback": [
      "\u001b[31m---------------------------------------------------------------------------\u001b[39m",
      "\u001b[31mFileNotFoundError\u001b[39m                         Traceback (most recent call last)",
      "\u001b[36mCell\u001b[39m\u001b[36m \u001b[39m\u001b[32mIn[1]\u001b[39m\u001b[32m, line 29\u001b[39m\n\u001b[32m     27\u001b[39m \u001b[38;5;66;03m# CSV'yi oku\u001b[39;00m\n\u001b[32m     28\u001b[39m \u001b[38;5;28;01mif\u001b[39;00m \u001b[38;5;129;01mnot\u001b[39;00m os.path.exists(input_file):\n\u001b[32m---> \u001b[39m\u001b[32m29\u001b[39m     \u001b[38;5;28;01mraise\u001b[39;00m \u001b[38;5;167;01mFileNotFoundError\u001b[39;00m(\u001b[33mf\u001b[39m\u001b[33m\"\u001b[39m\u001b[33mGiriş dosyası bulunamadı: \u001b[39m\u001b[38;5;132;01m{\u001b[39;00minput_file\u001b[38;5;132;01m}\u001b[39;00m\u001b[33m\"\u001b[39m)\n\u001b[32m     31\u001b[39m df = pd.read_csv(input_file)\n\u001b[32m     33\u001b[39m \u001b[38;5;28;01mif\u001b[39;00m \u001b[33m\"\u001b[39m\u001b[33mDescription\u001b[39m\u001b[33m\"\u001b[39m \u001b[38;5;129;01mnot\u001b[39;00m \u001b[38;5;129;01min\u001b[39;00m df.columns:\n",
      "\u001b[31mFileNotFoundError\u001b[39m: Giriş dosyası bulunamadı: C:\\Users\\pc\\Desktop\\AIbazaar\\AIBazaar\\AI\\utils\\notebooks\\LSTMProduct1.csv"
     ]
    }
   ],
   "source": [
    "import pandas as pd\n",
    "import os\n",
    "\n",
    "# Giriş ve çıkış dosyaları\n",
    "input_file = (\n",
    "    r\"C:\\Users\\pc\\Desktop\\AIbazaar\\AIBazaar\\AI\\utils\\notebooks\\LSTMProduct1.csv\"\n",
    ")\n",
    "output_file = \"product_specs_en.csv\"\n",
    "\n",
    "# Türkçe → İngilizce kolon çevirisi\n",
    "column_mapping = {\n",
    "    \"Ekran Boyutu\": \"Display Size\",\n",
    "    \"Ekran Teknolojisi\": \"Display Technology\",\n",
    "    \"Piksel Yoğunluğu\": \"Pixel Density\",\n",
    "    \"Batarya Kapasitesi\": \"Battery Capacity\",\n",
    "    \"Kamera Çözünürlüğü\": \"Camera Resolution\",\n",
    "    \"CPU Üretim Teknolojisi\": \"CPU Manufacturing\",\n",
    "    \"İşletim Sistemi\": \"Operating System\",\n",
    "    \"RAM Kapasitesi\": \"RAM\",\n",
    "    \"Dahili Hafıza\": \"Internal Storage\",\n",
    "    \"Ekran Yenileme Hızı\": \"Refresh Rate\",\n",
    "    \"Model\": \"Model\",\n",
    "    \"5G\": \"5G\",\n",
    "    \"Price\": \"Price\",\n",
    "}\n",
    "\n",
    "# CSV'yi oku\n",
    "if not os.path.exists(input_file):\n",
    "    raise FileNotFoundError(f\"Giriş dosyası bulunamadı: {input_file}\")\n",
    "\n",
    "df = pd.read_csv(input_file)\n",
    "\n",
    "if \"Description\" not in df.columns:\n",
    "    raise KeyError(\"CSV dosyasında 'Description' sütunu bulunamadı.\")\n",
    "\n",
    "# Her satır için özellikleri ayır\n",
    "expanded_rows = []\n",
    "for _, row in df.iterrows():\n",
    "    specs = {}\n",
    "    description = row.get(\"Description\", \"\")\n",
    "    for part in str(description).split(\";\"):\n",
    "        if \":\" in part:\n",
    "            key, value = part.split(\":\", 1)\n",
    "            key = key.strip()\n",
    "            value = value.strip()\n",
    "\n",
    "            # İngilizceye çevir\n",
    "            english_key = column_mapping.get(key, key)\n",
    "            specs[english_key] = value\n",
    "        else:\n",
    "                specs[english_key] = value\n",
    "    expanded_rows.append(specs)\n",
    "\n",
    "# Yeni DataFrame oluştur\n",
    "expanded_df = pd.DataFrame(expanded_rows)\n",
    "\n",
    "# Kaydet\n",
    "expanded_df.to_csv(output_file, index=False, encoding=\"utf-8-sig\")\n",
    "print(f\"✔ {output_file} dosyası İngilizce kolonlarla başarıyla oluşturuldu.\")"
   ]
  },
  {
   "cell_type": "code",
   "execution_count": null,
   "id": "3617b8e2",
   "metadata": {},
   "outputs": [],
   "source": [
    "import pandas as pd\n",
    "import re\n",
    "\n",
    "# Dosya yolları\n",
    "input_file = (\n",
    "    r\"C:\\Users\\pc\\Desktop\\AIbazaar\\AIBazaar\\AI\\utils\\notebooks\\product_specs_en.csv\"\n",
    ")\n",
    "output_file = \"product_specs_en.csv\"\n",
    "\n",
    "# Dosyayı oku\n",
    "df = pd.read_csv(input_file)\n",
    "\n",
    "# Eksik verileri 0 ile doldur\n",
    "df.fillna(0, inplace=True)\n",
    "\n",
    "\n",
    "# IPX / IP değerlerinden rakamı çek\n",
    "def extract_ipx_number(value):\n",
    "    if isinstance(value, str):\n",
    "        match = re.search(r\"\\d+\", value)  # ilk gördüğü sayıyı alır\n",
    "        if match:\n",
    "            return int(match.group())\n",
    "    return 0\n",
    "\n",
    "\n",
    "# Uygula: Suya ve Toza Dayanıklılık kolonlarına\n",
    "if \"Suya dayanıklılık\" in df.columns:\n",
    "    df[\"Waterproof\"] = df[\"Suya dayanıklılık\"].apply(extract_ipx_number)\n",
    "if \"Toza dayanıklılık\" in df.columns:\n",
    "    df[\"Dustproof\"] = df[\"Toza dayanıklılık\"].apply(extract_ipx_number)\n",
    "\n",
    "# Orijinal kolonları isteğe bağlı olarak silebilirsin\n",
    "# df.drop(columns=[\"Suya dayanıklılık\", \"Toza dayanıklılık\"], inplace=True)\n",
    "\n",
    "# Kaydet\n",
    "df.to_csv(output_file, index=False, encoding=\"utf-8-sig\")\n",
    "print(f\"{output_file} dosyası başarıyla güncellendi.\")"
   ]
  },
  {
   "cell_type": "code",
   "execution_count": null,
   "id": "a7475de4",
   "metadata": {},
   "outputs": [],
   "source": [
    "import pandas as pd\n",
    "import seaborn as sns\n",
    "import matplotlib.pyplot as plt\n",
    "\n",
    "# CSV dosyasını oku\n",
    "df = pd.read_csv(\n",
    "    r\"C:\\Users\\pc\\Desktop\\AIbazaar\\AIBazaar\\AI\\utils\\notebooks\\product_specs_en.csv\"\n",
    ")\n",
    "\n",
    "# Sadece sayısal sütunları seç\n",
    "numeric_df = df.select_dtypes(include=['int64', 'float64'])\n",
    "\n",
    "# Korelasyon matrisini hesapla\n",
    "corr = numeric_df.corr()\n",
    "\n",
    "# Korelasyon ısı haritası çizimi\n",
    "plt.figure(figsize=(12, 8))\n",
    "sns.heatmap(corr, annot=True, cmap='coolwarm', fmt=\".2f\", linewidths=0.5)\n",
    "plt.title(\"Telefon Özellikleri Sayısal Değişkenler Korelasyon Matrisi\")\n",
    "plt.show()"
   ]
  },
  {
   "cell_type": "code",
   "execution_count": null,
   "id": "bbe53259",
   "metadata": {},
   "outputs": [],
   "source": [
    "import pandas as pd\n",
    "\n",
    "df = pd.read_csv(r\"C:\\Users\\EXCALIBUR\\Desktop\\projects\\Okul Ödevler\\AIBazaar\\AI\\utils\\notebooks\\XGBoostData.csv\") \n",
    "\n",
    "df[\"ProductName\"] = df[\"Description\"].str.extract(r'Model:\\s*([^;]+)')\n",
    "\n",
    "df[\"Description\"] = df[\"Description\"].str.replace(r'Model:\\s*[^;]+;\\s*', '', regex=True)\n",
    "\n",
    "df.to_csv(\"newProductData.csv\", index=False,encoding=\"utf-8-sig\")\n",
    "\n",
    "print(df.head())\n"
   ]
  },
  {
   "cell_type": "code",
   "execution_count": null,
   "id": "0bb158ba",
   "metadata": {},
   "outputs": [],
   "source": [
    "import pandas as pd\n",
    "\n",
    "df = pd.read_csv(r\"C:\\Users\\EXCALIBUR\\Desktop\\projects\\Okul Ödevler\\AIBazaar\\AI\\utils\\notebooks\\Product.csv\")\n",
    "\n",
    "mean_prices = df.groupby(\"Display Technology\")[\"Price\"].mean().sort_values(ascending=False)\n",
    "\n",
    "price_ratios = mean_prices / mean_prices.min()\n",
    "\n",
    "result_df = pd.DataFrame({\n",
    "    \"Average Price\": mean_prices,\n",
    "    \"Ratio to Highest\": price_ratios\n",
    "})\n",
    "\n",
    "print(result_df)\n"
   ]
  },
  {
   "cell_type": "code",
   "execution_count": null,
   "id": "9215f931",
   "metadata": {},
   "outputs": [],
   "source": [
    "import pandas as pd\n",
    "df = pd.read_csv(r\"C:\\Users\\EXCALIBUR\\Desktop\\projects\\Okul Ödevler\\AIBazaar\\AI\\utils\\notebooks\\Product.csv\")\n",
    "prediction_price = 15000\n",
    "df[\"price_diff\"] = (df[\"Price\"] - prediction_price).abs()\n",
    "df = df[df[\"price_diff\"] <= prediction_price * 0.1]  \n",
    "print(df.head(5))\n",
    "\n",
    "print(len(df))"
   ]
  },
  {
   "cell_type": "code",
   "execution_count": null,
   "id": "79ef47c5",
   "metadata": {},
   "outputs": [
    {
     "name": "stdout",
     "output_type": "stream",
     "text": [
      "✅ CSV2'deki ProductID'ler, Model eşleşmesine göre CSV1'den güncellendi.\n"
     ]
    }
   ],
   "source": [
    "import pandas as pd\n",
    "\n",
    "df1 = pd.read_csv(r'C:\\Users\\EXCALIBUR\\Desktop\\projects\\Okul Ödevler\\AIBazaar\\AI\\utils\\notebooks\\nesa.csv')  \n",
    "df2 = pd.read_csv(r'C:\\Users\\EXCALIBUR\\Desktop\\projects\\Okul Ödevler\\AIBazaar\\AI\\utils\\notebooks\\LSTMPriceHistory.csv')  \n",
    "\n",
    "df1['Model'] = df1['Model'].str.strip()\n",
    "df2['Model'] = df2['Model'].str.strip()\n",
    "\n",
    "model_to_id = df1.set_index('Model')['ProductID'].to_dict()\n",
    "\n",
    "df2['ProductID'] = df2.apply(\n",
    "    lambda row: model_to_id.get(row['Model'], row['ProductID']),\n",
    "    axis=1\n",
    ")\n",
    "\n",
    "df2.to_csv(r'C:\\Users\\EXCALIBUR\\Desktop\\kass.csv', index=False)\n",
    "\n",
    "print(\"✅ CSV2'deki ProductID'ler, Model eşleşmesine göre CSV1'den güncellendi.\")\n"
   ]
  },
  {
   "cell_type": "code",
   "execution_count": null,
   "id": "c0d0f200",
   "metadata": {},
   "outputs": [
    {
     "name": "stdout",
     "output_type": "stream",
     "text": [
      "✅ CSV2'deki Model isimleri, ProductID'ye göre CSV1'den güncellendi.\n"
     ]
    }
   ],
   "source": [
    "import pandas as pd\n",
    "\n",
    "df1 = pd.read_csv(r'C:\\Users\\EXCALIBUR\\Desktop\\projects\\Okul Ödevler\\AIBazaar\\AI\\utils\\notebooks\\Product.csv')  df2 = pd.read_csv(r'C:\\Users\\EXCALIBUR\\Desktop\\projects\\Okul Ödevler\\AIBazaar\\AI\\utils\\notebooks\\product_specs_en.csv')  \n",
    "\n",
    "df1['Model'] = df1['Model'].str.strip()\n",
    "df2['Model'] = df2['Model'].str.strip()\n",
    "\n",
    "id_to_model = df1.set_index('ProductID')['Model'].to_dict()\n",
    "\n",
    "df2['Model'] = df2.apply(\n",
    "    lambda row: id_to_model.get(row['ProductID'], row['Model']),\n",
    "    axis=1\n",
    ")\n",
    "\n",
    "df2.to_csv(r'C:\\Users\\EXCALIBUR\\Desktop\\nesa.csv', index=False)\n",
    "\n",
    "print(\"✅ CSV2'deki Model isimleri, ProductID'ye göre CSV1'den güncellendi.\")\n"
   ]
  }
 ],
 "metadata": {
  "kernelspec": {
   "display_name": "Python 3",
   "language": "python",
   "name": "python3"
  },
  "language_info": {
   "codemirror_mode": {
    "name": "ipython",
    "version": 3
   },
   "file_extension": ".py",
   "mimetype": "text/x-python",
   "name": "python",
   "nbconvert_exporter": "python",
   "pygments_lexer": "ipython3",
   "version": "3.12.8"
  }
 },
 "nbformat": 4,
 "nbformat_minor": 5
}
