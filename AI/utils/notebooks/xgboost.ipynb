{
 "cells": [
  {
   "cell_type": "code",
   "execution_count": 8,
   "id": "b6941536",
   "metadata": {},
   "outputs": [
    {
     "name": "stdout",
     "output_type": "stream",
     "text": [
      "Original rows: 370\n"
     ]
    }
   ],
   "source": [
    "import pandas as pd\n",
    "\n",
    "dfproduct3 = pd.read_csv(\n",
    "    r\"C:\\Users\\pc\\Desktop\\AIbazaar\\AIBazaar\\AI\\utils\\newProduct.csv\"\n",
    ")\n",
    "df = pd.read_csv(\n",
    "    r\"C:\\Users\\pc\\Desktop\\AIbazaar\\AIBazaar\\AI\\utils\\products_descriptions.csv\"\n",
    ")\n",
    "df[\"ProductName\"] = dfproduct3[\"Product Name\"].str.strip()\n",
    "\n",
    "df.to_csv(\"filterPhone2.csv\", index=False)\n",
    "print(f\"Original rows: {len(df)}\")"
   ]
  },
  {
   "cell_type": "code",
   "execution_count": 4,
   "id": "0d46c314",
   "metadata": {},
   "outputs": [
    {
     "name": "stdout",
     "output_type": "stream",
     "text": [
      "product_specs_en.csv dosyası İngilizce kolon isimleriyle başarıyla oluşturuldu.\n"
     ]
    }
   ],
   "source": [
    "import pandas as pd\n",
    "\n",
    "# Giriş ve çıkış dosyası\n",
    "input_file = \"products.csv\"\n",
    "output_file = \"product_specs_en.csv\"\n",
    "\n",
    "# Türkçe -> İngilizce kolon çeviri sözlüğü\n",
    "column_mapping = {\n",
    "    \"Ekran Boyutu\": \"Display Size\",\n",
    "    \"Ekran Teknolojisi\": \"Display Technology\",\n",
    "    \"Piksel Yoğunluğu\": \"Pixel Density\",\n",
    "    \"Batarya Kapasitesi\": \"Battery Capacity\",\n",
    "    \"Kamera Çözünürlüğü\": \"Camera Resolution\",\n",
    "    \"CPU Üretim Teknolojisi\": \"CPU Manufacturing\",\n",
    "    \"İşletim Sistemi\": \"Operating System\",\n",
    "    \"RAM Kapasitesi\": \"RAM\",\n",
    "    \"Dahili Hafıza\": \"Internal Storage\",\n",
    "    \"Hızlı Şarj Desteği\": \"Fast Charging\",\n",
    "    \"Ekran Yenileme Hızı\": \"Refresh Rate\",\n",
    "    \"Model\": \"Model\"\n",
    "}\n",
    "\n",
    "# CSV dosyasını oku\n",
    "df = pd.read_csv(\"LSTMProducts.csv\")\n",
    "\n",
    "# Her satırı ayrıştır\n",
    "expanded_rows = []\n",
    "for _, row in df.iterrows():\n",
    "    description_parts = row[\"Description\"].split(\";\")\n",
    "    specs = {}\n",
    "    for part in description_parts:\n",
    "        if \":\" in part:\n",
    "            key, value = part.split(\":\", 1)\n",
    "            key = key.strip()\n",
    "            value = value.strip()\n",
    "            english_key = column_mapping.get(key, key)  # eşleşmeyeni orijinal bırak\n",
    "            specs[english_key] = value\n",
    "    specs[\"Product Name\"] = row[\"ProductName\"]\n",
    "    expanded_rows.append(specs)\n",
    "\n",
    "# Yeni DataFrame oluştur\n",
    "expanded_df = pd.DataFrame(expanded_rows)\n",
    "\n",
    "# CSV olarak kaydet\n",
    "expanded_df.to_csv(output_file, index=False, encoding=\"utf-8-sig\")\n",
    "\n",
    "print(f\"{output_file} dosyası İngilizce kolon isimleriyle başarıyla oluşturuldu.\")\n"
   ]
  }
 ],
 "metadata": {
  "kernelspec": {
   "display_name": "Python 3",
   "language": "python",
   "name": "python3"
  },
  "language_info": {
   "codemirror_mode": {
    "name": "ipython",
    "version": 3
   },
   "file_extension": ".py",
   "mimetype": "text/x-python",
   "name": "python",
   "nbconvert_exporter": "python",
   "pygments_lexer": "ipython3",
   "version": "3.12.8"
  }
 },
 "nbformat": 4,
 "nbformat_minor": 5
}
